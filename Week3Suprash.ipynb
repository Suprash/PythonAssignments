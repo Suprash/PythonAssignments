{
 "cells": [
  {
   "cell_type": "code",
   "execution_count": 12,
   "metadata": {},
   "outputs": [
    {
     "name": "stdout",
     "output_type": "stream",
     "text": [
      "['A', 'E', 'I', 'O', 'U', 'a', 'e', 'i', 'o', 'u', 'o', 'i']\n"
     ]
    }
   ],
   "source": [
    "#1/8\n",
    "\n",
    "#trying to make the function self-standing\n",
    "reference = ['a','e','i','o','u'] \n",
    "#using a reference table this can help modify the function for some similar functions\n",
    "\n",
    "def count_vowels(string): #function declare\n",
    "    vowels = [] #empty array\n",
    "    for i in string: #looping through the string\n",
    "        case = i.lower() #making it ignore the upper case or lower case\n",
    "        if case in reference: #using standard check array\n",
    "            vowels.append(i) #adding it to the list\n",
    "\n",
    "    print(vowels)#finally printing the vowels \n",
    "\n",
    "##############################################################\n",
    "\n",
    "count_vowels(\"AEIOUaeiounothing\") #calling the function\n"
   ]
  },
  {
   "cell_type": "code",
   "execution_count": null,
   "metadata": {},
   "outputs": [
    {
     "name": "stdout",
     "output_type": "stream",
     "text": [
      "The maximum number is: 90\n"
     ]
    }
   ],
   "source": [
    "#2/8\n",
    "\n",
    "#Simply loop through and update the max variable.\n",
    "list = [1,2,3,4,5,6,7,8,9,23,53,90]\n",
    "\n",
    "def find_maximum(num_list): #function for maximum\n",
    "    max = 0  \n",
    "    for i in num_list: \n",
    "        if i > max: #updating max through the loop if something greater than max than update max basically\n",
    "            max = i \n",
    "    \n",
    "    print(\"The maximum number is: \" + str(max)) #max is a number to converting it to string\n",
    "\n",
    "find_maximum(list)\n"
   ]
  },
  {
   "cell_type": "code",
   "execution_count": null,
   "metadata": {},
   "outputs": [
    {
     "name": "stdout",
     "output_type": "stream",
     "text": [
      "10 x 1 = 10\n",
      "10 x 2 = 20\n",
      "10 x 3 = 30\n",
      "10 x 4 = 40\n",
      "10 x 5 = 50\n",
      "10 x 6 = 60\n",
      "10 x 7 = 70\n",
      "10 x 8 = 80\n",
      "10 x 9 = 90\n",
      "10 x 10 = 100\n"
     ]
    }
   ],
   "source": [
    "#3/8\n",
    "# I will try using string format\n",
    "# n x 1 = (nx1)\n",
    "\n",
    "table = \"{} x {} = {}\" #standard for the printing\n",
    "\n",
    "def multiplication_table(table_of):\n",
    "    for i in range(1,11,1):\n",
    "        print(table.format(table_of,i,table_of*i)) #Using the string format declared above to print the table\n",
    "\n",
    "multiplication_table(10)\n"
   ]
  },
  {
   "cell_type": "code",
   "execution_count": null,
   "metadata": {},
   "outputs": [
    {
     "name": "stdout",
     "output_type": "stream",
     "text": [
      "nothingggg\n"
     ]
    }
   ],
   "source": [
    "#4/8\n",
    "phrase = \"Hello world how are you in i am nothing nothingggg\"\n",
    "dictionary = {\n",
    "\n",
    "}\n",
    "\n",
    "def largest_word(sentence): \n",
    "    array = sentence.split() #splitting to work with each word\n",
    "    longest = 0\n",
    "    long_word = '' #placeholder for keeping the longest word\n",
    "    for i in array:\n",
    "        dictionary.update({i:len(i)}) #creating a dictionary for each word and it's length\n",
    "\n",
    "    for i in dictionary.keys(): #looping through the words in the dictionary\n",
    "        if longest < dictionary.get(i): #if we find a word that is longer than updating teh variable longest\n",
    "            longest = dictionary.get(i) \n",
    "            long_word = i #updating the long_word\n",
    "    \n",
    "    print(long_word)\n",
    "         \n",
    "\n",
    "largest_word(phrase)"
   ]
  },
  {
   "cell_type": "code",
   "execution_count": null,
   "metadata": {},
   "outputs": [
    {
     "name": "stdout",
     "output_type": "stream",
     "text": [
      "36\n"
     ]
    }
   ],
   "source": [
    "#5/8\n",
    "\n",
    "list = [1,2,3,4,5,6,7,8]\n",
    "\n",
    "def sum_of_list(num_list): #simply looping through and adding it.\n",
    "    sum = 0\n",
    "    for i in num_list:\n",
    "        sum += i\n",
    "    print(sum)\n",
    "\n",
    "sum_of_list(list)"
   ]
  },
  {
   "cell_type": "code",
   "execution_count": null,
   "metadata": {},
   "outputs": [
    {
     "name": "stdout",
     "output_type": "stream",
     "text": [
      "['nothing', 'here', 'is', 'permanent']\n",
      "\n",
      "Output:\n",
      "['Nothing', 'Here', 'Is', 'Permanent']\n"
     ]
    }
   ],
   "source": [
    "#6/8\n",
    "\n",
    "case_phrase = \"nothing here is permanent\"\n",
    "title_case = []\n",
    "\n",
    "def to_title_case(phrase):\n",
    "    array = phrase.split() #splitting the phrase into words\n",
    "    print(array) #printing the split\n",
    "    for i in array:\n",
    "        up = i[0].upper() #taking the first word i[0] and making it uppercase\n",
    "        title_case.append(up + i[1:]) #creating another array to update the words with title case.       \n",
    "    print()\n",
    "    print(\"Output:\")\n",
    "    print(title_case)\n",
    "\n",
    "\n",
    "to_title_case(case_phrase)\n",
    "\n",
    "\n"
   ]
  },
  {
   "cell_type": "code",
   "execution_count": null,
   "metadata": {},
   "outputs": [
    {
     "name": "stdout",
     "output_type": "stream",
     "text": [
      "not a palindrome\n",
      "False\n"
     ]
    }
   ],
   "source": [
    "#7/8\n",
    "#idea: to compare the reverse and the non-reverse words and seeing if it matches.\n",
    "word_taken = \"madama\"\n",
    "\n",
    "def is_palindrome(word):\n",
    "    length = len(word)\n",
    "    reverse = word[::-1] #takes the reverse\n",
    "    if length%2:\n",
    "        if reverse.lower() == word.lower(): #helps ignore the upper case and lower case as suggested by the question\n",
    "            print(\"True\")\n",
    "    else:\n",
    "        print(\"not a palindrome\")\n",
    "        print(\"False\")\n",
    "\n",
    "is_palindrome(word_taken)\n"
   ]
  },
  {
   "cell_type": "code",
   "execution_count": 65,
   "metadata": {},
   "outputs": [
    {
     "name": "stdout",
     "output_type": "stream",
     "text": [
      "{'h': 1, 'e': 1, 'l': 2, 'o': 6}\n"
     ]
    }
   ],
   "source": [
    "#8/8\n",
    "\n",
    "\n",
    "def char_count(string_in):\n",
    "    userinput = {} #dictionary declare\n",
    "    for i in string_in:\n",
    "        if i in userinput.keys():\n",
    "            userinput[i] += 1\n",
    "        else:\n",
    "            userinput[i] = 1\n",
    "\n",
    "    print(userinput)\n",
    "\n",
    "char_count(\"helloooooo\")"
   ]
  }
 ],
 "metadata": {
  "kernelspec": {
   "display_name": "env",
   "language": "python",
   "name": "python3"
  },
  "language_info": {
   "codemirror_mode": {
    "name": "ipython",
    "version": 3
   },
   "file_extension": ".py",
   "mimetype": "text/x-python",
   "name": "python",
   "nbconvert_exporter": "python",
   "pygments_lexer": "ipython3",
   "version": "3.10.7"
  }
 },
 "nbformat": 4,
 "nbformat_minor": 2
}
