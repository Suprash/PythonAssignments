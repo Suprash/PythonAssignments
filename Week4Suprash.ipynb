{
 "cells": [
  {
   "cell_type": "code",
   "execution_count": 1,
   "metadata": {},
   "outputs": [
    {
     "name": "stdout",
     "output_type": "stream",
     "text": [
      "Learning Python step by step.\n"
     ]
    }
   ],
   "source": [
    "#Question 1\n",
    "def take_file_data(filepath):\n",
    "    f = open(filepath, \"r\")  # Open for reading\n",
    "    data = f.read()  \n",
    "    f.close()  \n",
    "    return data  # Return the file’s text\n",
    "\n",
    "def save(filepath, text):\n",
    "    f = open(filepath, \"w\")  #\n",
    "    f.write(text)  # Save content\n",
    "    f.close()  # Close after writing\n",
    "\n",
    "save(\"notes.txt\", \"Learning Python step by step.\")\n",
    "\n",
    "output = take_file_data(\"notes.txt\")\n",
    "print(output)\n"
   ]
  },
  {
   "cell_type": "code",
   "execution_count": 3,
   "metadata": {},
   "outputs": [
    {
     "name": "stdout",
     "output_type": "stream",
     "text": [
      "Learning\n"
     ]
    }
   ],
   "source": [
    "#2\n",
    "def find_longest_word(file_path):\n",
    "    with open(file_path, \"r\") as file:  # Opening for reading\n",
    "        wordss = file.read().split()  #read and split\n",
    "    longest = \"\"  #initializing as empty string\n",
    "    for word in wordss:\n",
    "        if len(word) > len(longest):  # Check if the word is longer than the current longest\n",
    "            longest = word\n",
    "    return longest  # longest word\n",
    "longest_word = find_longest_word(\"sample.txt\")\n",
    "print(longest_word)  # Output: \"programming\"\n"
   ]
  },
  {
   "cell_type": "code",
   "execution_count": 4,
   "metadata": {},
   "outputs": [
    {
     "name": "stdout",
     "output_type": "stream",
     "text": [
      "False\n",
      "False\n"
     ]
    }
   ],
   "source": [
    "#3\n",
    "def check_file_empty(file_path):\n",
    "    with open(file_path, \"r\") as file:  # Open file in read mode\n",
    "        return file.read().strip() == \"\"  \n",
    "print(check_file_empty(\"sample.txt\"))  \n",
    "print(check_file_empty(\"data.txt\"))   \n"
   ]
  },
  {
   "cell_type": "code",
   "execution_count": 5,
   "metadata": {},
   "outputs": [],
   "source": [
    "#4\n",
    "def reverse_file_content(file_path):\n",
    "\n",
    "    with open(file_path, \"r\") as file:\n",
    "        content = file.read()  # Read the entire content\n",
    "\n",
    "    reversed_content = content[::-1]  # Reverse the content using slicing\n",
    "\n",
    "    with open(\"reversed.txt\", \"w\") as new_file:\n",
    "        new_file.write(reversed_content)  # Write reversed content to new file\n",
    "reverse_file_content(\"sample.txt\")"
   ]
  },
  {
   "cell_type": "code",
   "execution_count": 6,
   "metadata": {},
   "outputs": [
    {
     "name": "stdout",
     "output_type": "stream",
     "text": [
      "['HELLO', 'WORLD', 'PYTHON', 'PROGRAMMING']\n"
     ]
    }
   ],
   "source": [
    "#5\n",
    "def convert_to_uppercase(string_list):\n",
    "    \n",
    "    uppercase_list = list(map(lambda s: s.upper(), string_list))  # Convert to uppercase\n",
    "    return uppercase_list  # Return the new list\n",
    "strings = [\"hello\", \"world\", \"python\", \"programming\"]\n",
    "\n",
    "result1 = convert_to_uppercase(strings)\n",
    "print(result1)\n"
   ]
  },
  {
   "cell_type": "code",
   "execution_count": 7,
   "metadata": {},
   "outputs": [
    {
     "name": "stdout",
     "output_type": "stream",
     "text": [
      "['Python', 'is', 'coding']\n"
     ]
    }
   ],
   "source": [
    "#6\n",
    "def filter_even_length_words(word_list):\n",
    "    even_length_words = [word for word in word_list if len(word) % 2 == 0]  # Include words with even length\n",
    "    return even_length_words  # Return the list of even-length words\n",
    "\n",
    "words = [\"hello\", \"world\", \"Python\", \"is\", \"fun\", \"coding\", \"great\"]\n",
    "\n",
    "# Filter even-length words\n",
    "result = filter_even_length_words(words)\n",
    "print(result)  \n"
   ]
  },
  {
   "cell_type": "code",
   "execution_count": 9,
   "metadata": {},
   "outputs": [],
   "source": [
    "#7\n",
    "def process_file_with_lambda(file_name):\n",
    "    with open(file_name, \"r\") as file:\n",
    "        lines = file.readlines()  # Read all lines from the file\n",
    "\n",
    "    with open(file_name, \"w\") as file:\n",
    "        for line in lines:\n",
    "            processed_line = ' '.join(map(lambda word: word.upper(), line.split()))\n",
    "            file.write(processed_line + '\\n')  # Write the processed line back to the file\n",
    "process_file_with_lambda(\"example.txt\")"
   ]
  },
  {
   "cell_type": "code",
   "execution_count": 10,
   "metadata": {},
   "outputs": [
    {
     "name": "stdout",
     "output_type": "stream",
     "text": [
      "The maximum number is: 1\n"
     ]
    }
   ],
   "source": [
    "list = [3,1,4,1,5,9,2,1]\n",
    "\n",
    "def find_minimum(num_list): #function for maximum\n",
    "    min = num_list[0]  \n",
    "    for i in num_list: \n",
    "        if i < min: #updating max through the loop if something greater than max than update max basically\n",
    "            min = i \n",
    "    \n",
    "    print(\"The maximum number is: \" + str(min)) #max is a number to converting it to string\n",
    "\n",
    "find_minimum(list)"
   ]
  }
 ],
 "metadata": {
  "kernelspec": {
   "display_name": "env",
   "language": "python",
   "name": "python3"
  },
  "language_info": {
   "codemirror_mode": {
    "name": "ipython",
    "version": 3
   },
   "file_extension": ".py",
   "mimetype": "text/x-python",
   "name": "python",
   "nbconvert_exporter": "python",
   "pygments_lexer": "ipython3",
   "version": "3.10.7"
  }
 },
 "nbformat": 4,
 "nbformat_minor": 2
}
