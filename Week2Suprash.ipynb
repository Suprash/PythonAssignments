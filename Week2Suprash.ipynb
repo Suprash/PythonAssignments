{
 "cells": [
  {
   "cell_type": "code",
   "execution_count": 23,
   "metadata": {},
   "outputs": [
    {
     "name": "stdout",
     "output_type": "stream",
     "text": [
      "1\n",
      "2\n",
      "3\n",
      "4\n",
      "6\n",
      "7\n"
     ]
    }
   ],
   "source": [
    "#1/5\n",
    "\n",
    "list = {1,2,3,4,5,6,7,10,51,23} #euta random list deko ho\n",
    "\n",
    "for i in list:\n",
    "    if i>50:\n",
    "        break\n",
    "    if i % 5 != 0: #this part checks out any number that is not divisible by 5.\n",
    "        print(i)\n"
   ]
  },
  {
   "cell_type": "code",
   "execution_count": 1,
   "metadata": {},
   "outputs": [
    {
     "name": "stdout",
     "output_type": "stream",
     "text": [
      "Password is weak\n"
     ]
    }
   ],
   "source": [
    "#2/5\n",
    "\n",
    "count = 6\n",
    "password = input(\"Enter a password\")\n",
    "flag = 0\n",
    "length = len(password)\n",
    "for i in password:\n",
    "    if i == \"@\" or i == \"#\" or i== \"$\" or i == \"%\" or i == \"&\": #checks for special character\n",
    "        flag = 2\n",
    "    elif i == int: #checks number cha ki nai bhanera\n",
    "        flag = 1\n",
    "    else: #kehi chaina\n",
    "        flag = 0\n",
    "\n",
    "#check gareko using if else statements.\n",
    "if length >= 8 and flag == 2:\n",
    "    print(\"Password is strong\")\n",
    "\n",
    "elif length >=6 and flag == 1:\n",
    "    print(\"Password is Moderate\")\n",
    "    \n",
    "else:\n",
    "    print(\"Password is weak\")\n",
    "\n"
   ]
  },
  {
   "cell_type": "code",
   "execution_count": 2,
   "metadata": {},
   "outputs": [
    {
     "name": "stdout",
     "output_type": "stream",
     "text": [
      "[0, 5, 8, 11, 16]\n",
      "hello eh  hi hahw \n"
     ]
    }
   ],
   "source": [
    "#3/5\n",
    "\n",
    "string = input(\"input a string: \")  \n",
    "break_log = [0]  \n",
    "naya = \"\"  \n",
    "\n",
    "# kaha kaha gap cha?\n",
    "for i in range(len(string)):\n",
    "    if string[i] == \" \":\n",
    "        break_log.append(i)  # storeing\n",
    "break_log.append(len(string)) \n",
    "\n",
    "print(break_log) \n",
    "\n",
    "for i in range(len(break_log) - 1):\n",
    "    if i % 2 == 0:\n",
    "        naya += string[break_log[i]:break_log[i+1]] + \" \"  # first word same\n",
    "    else:\n",
    "        word = string[break_log[i]:break_log[i+1]].strip()  # second fourth word opposite garcha\n",
    "        naya += word[::-1] + \" \" \n",
    "\n",
    "print(naya)\n"
   ]
  },
  {
   "cell_type": "code",
   "execution_count": 3,
   "metadata": {},
   "outputs": [
    {
     "name": "stdout",
     "output_type": "stream",
     "text": [
      "found\n",
      "apple\n",
      "found\n",
      "banana\n",
      "found\n",
      "banana\n",
      "{'apple': 2, 'banana': 3, 'orange': 1}\n"
     ]
    }
   ],
   "source": [
    "#4/5\n",
    "\n",
    "userinput = [\"apple\", \"banana\", \"apple\", \"orange\", \"banana\", \"banana\"]\n",
    "\n",
    "fruits = {}\n",
    "\n",
    "for i in userinput:\n",
    "    if i in fruits.keys():\n",
    "        fruits[i] += 1\n",
    "        print(\"found\")\n",
    "        print(i)\n",
    "    else:\n",
    "        fruits[i] = 1\n",
    "\n",
    "print(fruits)\n",
    "\n"
   ]
  },
  {
   "cell_type": "code",
   "execution_count": null,
   "metadata": {},
   "outputs": [
    {
     "name": "stdout",
     "output_type": "stream",
     "text": [
      "Enter a valid number, not this:q\n",
      "Enter a valid number, not this:1\n",
      "Enter a valid number, not this:1\n",
      "Enter a valid number, not this:1\n",
      "Enter a valid number, not this:1\n",
      "Enter a valid number, not this:\n",
      "Enter a valid number, not this:\n",
      "Enter a valid number, not this:\n",
      "Enter a valid number, not this:\n",
      "Enter a valid number, not this:\n",
      "Enter a valid number, not this:\n"
     ]
    }
   ],
   "source": [
    "#5/5\n",
    "\n",
    "books={}\n",
    "\n",
    "books = {\n",
    "    \"The Great Gatsby\": 5,\n",
    "    \"To Kill a Mockingbird\": 8,\n",
    "    \"1984\": 6,\n",
    "    \"Pride and Prejudice\": 4,\n",
    "    \"The Catcher in the Rye\": 7\n",
    "} #yes chatgpt gave me this dictionary\n",
    "\n",
    "\n",
    "# running code from here mathi ko sab declarations\n",
    "\n",
    "userbook = input(\"Enter the book you want\")\n",
    "userbuy = input(\"Enter the number of books you want\")\n",
    "while not(userbuy >=0):\n",
    "    print(\"Enter a valid number, not this:\"+str(userbuy))\n",
    "    userbuy = input(\"Enter the number of books you want\")\n",
    "\n",
    "#checking things for debugging\n",
    "print(userbook + \" \" + str(userbuy))\n",
    "userbuy= int(userbuy)\n",
    "\n",
    "#checking the library\n",
    "if userbook in books.keys():\n",
    "    if userbuy <= books[userbook]:\n",
    "        print(\"Available\")\n",
    "    else: #if userbuy > books[userbook]:\n",
    "        print(\"Partially Available\")\n",
    "else:\n",
    "    print(\"Unavailable\")\n",
    "\n",
    "\n",
    "\n",
    "\n"
   ]
  },
  {
   "cell_type": "code",
   "execution_count": 1,
   "metadata": {},
   "outputs": [
    {
     "name": "stdout",
     "output_type": "stream",
     "text": [
      "found\n",
      "is\n",
      "{'This': 1, 'is': 2, 'good': 1}\n"
     ]
    }
   ],
   "source": [
    "\n",
    "\n",
    "userinput = [\"This\",\"is\",\"good\",\"is\"]\n",
    "\n",
    "words = {}\n",
    "\n",
    "for i in userinput:\n",
    "    if i in words.keys():\n",
    "        words[i] += 1\n",
    "        print(\"found\")\n",
    "        print(i)\n",
    "    else:\n",
    "        words[i] = 1\n",
    "\n",
    "print(words)"
   ]
  }
 ],
 "metadata": {
  "kernelspec": {
   "display_name": "env",
   "language": "python",
   "name": "python3"
  },
  "language_info": {
   "codemirror_mode": {
    "name": "ipython",
    "version": 3
   },
   "file_extension": ".py",
   "mimetype": "text/x-python",
   "name": "python",
   "nbconvert_exporter": "python",
   "pygments_lexer": "ipython3",
   "version": "3.10.7"
  }
 },
 "nbformat": 4,
 "nbformat_minor": 2
}
