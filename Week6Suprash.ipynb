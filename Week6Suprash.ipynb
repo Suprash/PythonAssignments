{
 "cells": [
  {
   "cell_type": "markdown",
   "metadata": {},
   "source": [
    "# Week 6"
   ]
  },
  {
   "cell_type": "markdown",
   "metadata": {},
   "source": [
    "## Question 1 \n",
    "Create a class called Student with attributes name, age, and grades (a list of integers). Write a method average_grade that calculates and returns the average grade of the student. Create three Student objects and print their average grades."
   ]
  },
  {
   "cell_type": "code",
   "execution_count": 1,
   "metadata": {},
   "outputs": [
    {
     "name": "stdout",
     "output_type": "stream",
     "text": [
      "The average is :26.666666666666668\n",
      "The average is :95.0\n",
      "The average is :18.666666666666668\n"
     ]
    }
   ],
   "source": [
    "\n",
    "class Student:\n",
    "    name = \"\"\n",
    "    age = 0\n",
    "    sum = 0\n",
    "    avg = 0\n",
    "    def __init__(self,name,age,grade):\n",
    "        self.name = name\n",
    "        self.age = age \n",
    "        self.grades = grade\n",
    "\n",
    "    def average_grade(self):\n",
    "        for i in self.grades:\n",
    "            self.sum += int(i)\n",
    "            self.avg = self.sum/int(len(self.grades))\n",
    "        print(\"The average is :\" + str(self.avg))\n",
    "\n",
    "suprash = Student (\"Suprash\",13,[12,23,45])\n",
    "suprash.average_grade()\n",
    "\n",
    "shreetika = Student(\"Shreetika\",20,[90,95,100])\n",
    "shreetika.average_grade()\n",
    "\n",
    "hello = Student(\"hello\",19,[23,23,10])\n",
    "hello.average_grade()\n"
   ]
  },
  {
   "cell_type": "markdown",
   "metadata": {},
   "source": [
    "## Question 2\n",
    "\n",
    "Create a class called Book with attributes title, author. Write a method short_title that returns the first 10 characters of the book's title. Create three Book objects and print their short titles.\n"
   ]
  },
  {
   "cell_type": "code",
   "execution_count": 2,
   "metadata": {},
   "outputs": [
    {
     "name": "stdout",
     "output_type": "stream",
     "text": [
      "The name o\n",
      "Book is th\n"
     ]
    }
   ],
   "source": [
    "class Book:\n",
    "\n",
    "    def __init__(self,title,author):\n",
    "        self.title = title\n",
    "        self.author = author\n",
    "    def short_title(self):\n",
    "        title = self.title\n",
    "        print(title[0:10])\n",
    "\n",
    "book1 = Book(\"The name of the book is\",\"Suprash\")\n",
    "book1.short_title()\n",
    "\n",
    "book2 = Book(\"Book is this hello\",\"Suprash\")\n",
    "book2.short_title()\n",
    "\n",
    "\n"
   ]
  },
  {
   "cell_type": "markdown",
   "metadata": {},
   "source": [
    "## Questions 3\n",
    "\n",
    "Create a class called StudentResult with attributes name, age, and average_grade and include a method has_passed that returns True if the student's average grade is 50 or higher, and False otherwise . Create three Student objects and print the names of the students who have passed."
   ]
  },
  {
   "cell_type": "code",
   "execution_count": 29,
   "metadata": {},
   "outputs": [
    {
     "name": "stdout",
     "output_type": "stream",
     "text": [
      "True\n",
      "This student has passed:Suprash\n",
      "This student has failed:hi\n",
      "This student has passed:Shreetika\n"
     ]
    }
   ],
   "source": [
    "\n",
    "class StudentResult:\n",
    "    def __init__(self,name,age,grade):\n",
    "        self.name = name\n",
    "        self.age = age \n",
    "        self.avg_g = grade\n",
    "\n",
    "    def has_passed(self):\n",
    "        if self.avg_g>=50:\n",
    "            return True\n",
    "        else:\n",
    "            return False\n",
    "\n",
    "def printa(StudentResult,bool):\n",
    "    if bool:\n",
    "        print(\"This student has passed:\" + StudentResult.name)\n",
    "    if not bool:\n",
    "        print(\"This student has failed:\" + StudentResult.name)\n",
    " \n",
    "\n",
    "    \n",
    "\n",
    "suprash = StudentResult(\"Suprash\",21,89)\n",
    "print(suprash.has_passed())\n",
    "printa(suprash,suprash.has_passed)\n",
    "\n",
    "\n",
    "hi = StudentResult(\"hi\",20,40)\n",
    "printa(hi,hi.has_passed())\n",
    "\n",
    "shreetika = StudentResult(\"Shreetika\",20,90)\n",
    "printa(shreetika,shreetika.has_passed())\n",
    "\n",
    "        \n",
    "\n"
   ]
  },
  {
   "cell_type": "markdown",
   "metadata": {},
   "source": [
    "## Question 4\n",
    "\n",
    "Create a class called ShoppingCart with a list attribute items (each item is a dictionary with keys name and price). Write a method total_price that calculates and returns the total price of all items in the cart. Create a ShoppingCart object, add five items to it, and print the total price.\n"
   ]
  },
  {
   "cell_type": "code",
   "execution_count": null,
   "metadata": {},
   "outputs": [
    {
     "name": "stdout",
     "output_type": "stream",
     "text": [
      "Total Price: 9.0\n"
     ]
    }
   ],
   "source": [
    "class ShoppingCart:\n",
    "    def __init__(self):\n",
    "        self.items = {}  # Dictionary to store items and prices\n",
    "\n",
    "    def add_item(self, name, price):\n",
    "        self.items[name] = price  # Add item to dictionary\n",
    "\n",
    "    def total_price(self):\n",
    "        return sum(self.items.values()) # Calculate total price\n",
    "\n",
    "cart = ShoppingCart()\n",
    "cart.add_item(\"Apple\", 1.5)\n",
    "cart.add_item(\"Banana\", 0.8)\n",
    "cart.add_item(\"Milk\", 2.5)\n",
    "cart.add_item(\"Bread\", 1.2)\n",
    "cart.add_item(\"Eggs\", 3.0)\n",
    "\n",
    "print(\"Total Price:\", cart.total_price())\n"
   ]
  },
  {
   "cell_type": "markdown",
   "metadata": {},
   "source": [
    "## Question 5\n",
    "\n",
    "Create a class called TextAnalyzer with a string attribute text. Write a method word_count that returns the number of words in the text.Create a TextAnalyzer object with a sample text and print the word count"
   ]
  },
  {
   "cell_type": "code",
   "execution_count": 40,
   "metadata": {},
   "outputs": [
    {
     "name": "stdout",
     "output_type": "stream",
     "text": [
      "Word Count: 6\n"
     ]
    }
   ],
   "source": [
    "class TextAnalyzer:\n",
    "    def __init__(self, text):\n",
    "        self.text = text\n",
    "\n",
    "    def word_count(self):\n",
    "        split = self.text.split()\n",
    "        return len(split)  # Split text into words and count them\n",
    "\n",
    "sentence = TextAnalyzer(\"Hello hi hello hi hello hi\")\n",
    "print(\"Word Count:\", sentence.word_count())\n"
   ]
  },
  {
   "cell_type": "markdown",
   "metadata": {},
   "source": [
    "## Question 6\n",
    "\n",
    "Create a class called Playlist with a list attribute songs (each song is a dictionary with keys title and artist). Write a method shuffle that randomly shuffles the songs in the playlist. Create a Playlist object, add five songs to it, shuffle the playlist, and print the shuffled list of songs.\n",
    "Hint : \n",
    "Use random.shuffle(list_varible) to shuffle (preq. import random)\n",
    "Use loop to print the shuffled songs with title and artist"
   ]
  },
  {
   "cell_type": "code",
   "execution_count": null,
   "metadata": {},
   "outputs": [
    {
     "name": "stdout",
     "output_type": "stream",
     "text": [
      "Shuffled Playlist:\n",
      "[{'title': 'Songthree', 'artist': 'artisthi'}, {'title': 'Songtwo', 'artist': 'Noone'}, {'title': '5', 'artist': 'artist who?'}, {'title': 'Song4', 'artist': 'artist hello'}, {'title': 'nothing', 'artist': 'someone'}]\n",
      "Songthree by artisthi\n",
      "Songtwo by Noone\n",
      "5 by artist who?\n",
      "Song4 by artist hello\n",
      "nothing by someone\n"
     ]
    }
   ],
   "source": [
    "import random\n",
    "\n",
    "class Playlist:\n",
    "    def __init__(self):\n",
    "        self.songs = []\n",
    "\n",
    "    def add_song(self, title, artist):\n",
    "        self.songs.append({\"title\": title, \"artist\": artist})\n",
    "\n",
    "    def shuffle(self):\n",
    "        random.shuffle(self.songs)  \n",
    "\n",
    "    def display(self):\n",
    "        for song in self.songs:\n",
    "            print(f\"{song['title']} by {song['artist']}\")\n",
    "\n",
    "playlist = Playlist()\n",
    "playlist.add_song(\"nothing\", \"someone\")\n",
    "playlist.add_song(\"Songtwo\", \"Noone\")\n",
    "playlist.add_song(\"Songthree\", \"artisthi\")\n",
    "playlist.add_song(\"Song4\", \"artist hello\")\n",
    "playlist.add_song(\"5\", \"artist who?\")\n",
    "\n",
    "playlist.shuffle()\n",
    "print(\"Shuffled Playlist:\")\n",
    "playlist.display()\n"
   ]
  }
 ],
 "metadata": {
  "kernelspec": {
   "display_name": "env",
   "language": "python",
   "name": "python3"
  },
  "language_info": {
   "codemirror_mode": {
    "name": "ipython",
    "version": 3
   },
   "file_extension": ".py",
   "mimetype": "text/x-python",
   "name": "python",
   "nbconvert_exporter": "python",
   "pygments_lexer": "ipython3",
   "version": "3.10.7"
  }
 },
 "nbformat": 4,
 "nbformat_minor": 2
}
