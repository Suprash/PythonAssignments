{
 "cells": [
  {
   "cell_type": "code",
   "execution_count": 1,
   "metadata": {},
   "outputs": [
    {
     "name": "stdout",
     "output_type": "stream",
     "text": [
      "4\n",
      "16\n",
      "[4, 16]\n"
     ]
    }
   ],
   "source": [
    "def return_square(list1):\n",
    "    sq_list = []\n",
    "    for i in list1:\n",
    "        sq_list.append(i*i)\n",
    "    return sq_list\n",
    "\n",
    "def even_square(list1):\n",
    "    store = []\n",
    "    for i in list1:\n",
    "        if i%2==0:\n",
    "            store.append(i)\n",
    "            print(i)\n",
    "    return store\n",
    "\n",
    "def store(list1):\n",
    "    evenlist = list1\n",
    "    print(list1)\n",
    "\n",
    "store(even_square(return_square({1,2,3,4})))  "
   ]
  }
 ],
 "metadata": {
  "kernelspec": {
   "display_name": "env",
   "language": "python",
   "name": "python3"
  },
  "language_info": {
   "codemirror_mode": {
    "name": "ipython",
    "version": 3
   },
   "file_extension": ".py",
   "mimetype": "text/x-python",
   "name": "python",
   "nbconvert_exporter": "python",
   "pygments_lexer": "ipython3",
   "version": "3.10.7"
  }
 },
 "nbformat": 4,
 "nbformat_minor": 2
}
